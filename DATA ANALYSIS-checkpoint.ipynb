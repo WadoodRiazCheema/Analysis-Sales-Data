{
 "cells": [
  {
   "cell_type": "code",
   "execution_count": 13,
   "metadata": {},
   "outputs": [
    {
     "data": {
      "text/plain": [
       "['.ipynb_checkpoints',\n",
       " 'all_data.csv',\n",
       " 'April.csv',\n",
       " 'Februray.csv',\n",
       " 'January.csv',\n",
       " 'March.csv']"
      ]
     },
     "execution_count": 13,
     "metadata": {},
     "output_type": "execute_result"
    }
   ],
   "source": [
    "import pandas as pd\n",
    "import matplotlib.pyplot as plt\n",
    "import numpy as np\n",
    "import seaborn as sns\n",
    "import os\n",
    "path = r\"C:\\supermarket_sales_data\"\n",
    "os.listdir(path)"
   ]
  },
  {
   "cell_type": "code",
   "execution_count": 15,
   "metadata": {},
   "outputs": [],
   "source": [
    "import pandas as pd\n",
    "files =[file for file in os.listdir(path) if not file.startswith('.')]\n",
    "all_month_data =pd.DataFrame()\n",
    "\n",
    "for file in files:\n",
    "    raw_data=pd.read_csv(path+'/'+file,encoding='latin1')\n",
    "    all_month_data =pd.concat([all_month_data ,raw_data],ignore_index=True,axis=0)\n",
    "    \n",
    "all_month_data .to_csv('all_data.csv',index=False)"
   ]
  },
  {
   "cell_type": "code",
   "execution_count": 17,
   "metadata": {},
   "outputs": [
    {
     "data": {
      "text/html": [
       "<div>\n",
       "<style scoped>\n",
       "    .dataframe tbody tr th:only-of-type {\n",
       "        vertical-align: middle;\n",
       "    }\n",
       "\n",
       "    .dataframe tbody tr th {\n",
       "        vertical-align: top;\n",
       "    }\n",
       "\n",
       "    .dataframe thead th {\n",
       "        text-align: right;\n",
       "    }\n",
       "</style>\n",
       "<table border=\"1\" class=\"dataframe\">\n",
       "  <thead>\n",
       "    <tr style=\"text-align: right;\">\n",
       "      <th></th>\n",
       "      <th>Invoice ID</th>\n",
       "      <th>Branch</th>\n",
       "      <th>City</th>\n",
       "      <th>Customer type</th>\n",
       "      <th>Gender</th>\n",
       "      <th>Product line</th>\n",
       "      <th>Unit price</th>\n",
       "      <th>Quantity</th>\n",
       "      <th>Tax 5%</th>\n",
       "      <th>Total</th>\n",
       "      <th>Date</th>\n",
       "      <th>Time</th>\n",
       "      <th>Payment</th>\n",
       "      <th>cogs</th>\n",
       "      <th>gross margin percentage</th>\n",
       "      <th>gross income</th>\n",
       "      <th>Rating</th>\n",
       "    </tr>\n",
       "  </thead>\n",
       "  <tbody>\n",
       "    <tr>\n",
       "      <th>0</th>\n",
       "      <td>201-63-8275</td>\n",
       "      <td>C</td>\n",
       "      <td>Naypyitaw</td>\n",
       "      <td>Member</td>\n",
       "      <td>Female</td>\n",
       "      <td>Sports and travel</td>\n",
       "      <td>67.99</td>\n",
       "      <td>7</td>\n",
       "      <td>23.7965</td>\n",
       "      <td>499.7265</td>\n",
       "      <td>02-04-19</td>\n",
       "      <td>16:50</td>\n",
       "      <td>Ewallet</td>\n",
       "      <td>475.93</td>\n",
       "      <td>4.761905</td>\n",
       "      <td>23.7965</td>\n",
       "      <td>5.7</td>\n",
       "    </tr>\n",
       "    <tr>\n",
       "      <th>1</th>\n",
       "      <td>471-06-8611</td>\n",
       "      <td>C</td>\n",
       "      <td>Naypyitaw</td>\n",
       "      <td>Normal</td>\n",
       "      <td>Female</td>\n",
       "      <td>Food and beverages</td>\n",
       "      <td>52.42</td>\n",
       "      <td>1</td>\n",
       "      <td>2.6210</td>\n",
       "      <td>55.0410</td>\n",
       "      <td>14-04-19</td>\n",
       "      <td>10:22</td>\n",
       "      <td>Credit card</td>\n",
       "      <td>52.42</td>\n",
       "      <td>4.761905</td>\n",
       "      <td>2.6210</td>\n",
       "      <td>6.3</td>\n",
       "    </tr>\n",
       "    <tr>\n",
       "      <th>2</th>\n",
       "      <td>200-16-5952</td>\n",
       "      <td>C</td>\n",
       "      <td>Naypyitaw</td>\n",
       "      <td>Member</td>\n",
       "      <td>Male</td>\n",
       "      <td>Food and beverages</td>\n",
       "      <td>65.65</td>\n",
       "      <td>2</td>\n",
       "      <td>6.5650</td>\n",
       "      <td>137.8650</td>\n",
       "      <td>12-04-19</td>\n",
       "      <td>16:46</td>\n",
       "      <td>Cash</td>\n",
       "      <td>131.30</td>\n",
       "      <td>4.761905</td>\n",
       "      <td>6.5650</td>\n",
       "      <td>6.0</td>\n",
       "    </tr>\n",
       "    <tr>\n",
       "      <th>3</th>\n",
       "      <td>120-54-2248</td>\n",
       "      <td>B</td>\n",
       "      <td>Mandalay</td>\n",
       "      <td>Normal</td>\n",
       "      <td>Female</td>\n",
       "      <td>Food and beverages</td>\n",
       "      <td>28.86</td>\n",
       "      <td>5</td>\n",
       "      <td>7.2150</td>\n",
       "      <td>151.5150</td>\n",
       "      <td>08-04-19</td>\n",
       "      <td>18:08</td>\n",
       "      <td>Credit card</td>\n",
       "      <td>144.30</td>\n",
       "      <td>4.761905</td>\n",
       "      <td>7.2150</td>\n",
       "      <td>8.0</td>\n",
       "    </tr>\n",
       "    <tr>\n",
       "      <th>4</th>\n",
       "      <td>102-77-2261</td>\n",
       "      <td>C</td>\n",
       "      <td>Naypyitaw</td>\n",
       "      <td>Member</td>\n",
       "      <td>Male</td>\n",
       "      <td>Health and beauty</td>\n",
       "      <td>65.31</td>\n",
       "      <td>7</td>\n",
       "      <td>22.8585</td>\n",
       "      <td>480.0285</td>\n",
       "      <td>29-04-19</td>\n",
       "      <td>18:02</td>\n",
       "      <td>Credit card</td>\n",
       "      <td>457.17</td>\n",
       "      <td>4.761905</td>\n",
       "      <td>22.8585</td>\n",
       "      <td>4.2</td>\n",
       "    </tr>\n",
       "    <tr>\n",
       "      <th>...</th>\n",
       "      <td>...</td>\n",
       "      <td>...</td>\n",
       "      <td>...</td>\n",
       "      <td>...</td>\n",
       "      <td>...</td>\n",
       "      <td>...</td>\n",
       "      <td>...</td>\n",
       "      <td>...</td>\n",
       "      <td>...</td>\n",
       "      <td>...</td>\n",
       "      <td>...</td>\n",
       "      <td>...</td>\n",
       "      <td>...</td>\n",
       "      <td>...</td>\n",
       "      <td>...</td>\n",
       "      <td>...</td>\n",
       "      <td>...</td>\n",
       "    </tr>\n",
       "    <tr>\n",
       "      <th>95</th>\n",
       "      <td>101-81-4070</td>\n",
       "      <td>C</td>\n",
       "      <td>Naypyitaw</td>\n",
       "      <td>Member</td>\n",
       "      <td>Female</td>\n",
       "      <td>Health and beauty</td>\n",
       "      <td>62.82</td>\n",
       "      <td>2</td>\n",
       "      <td>6.2820</td>\n",
       "      <td>131.9220</td>\n",
       "      <td>14-04-19</td>\n",
       "      <td>12:36</td>\n",
       "      <td>Ewallet</td>\n",
       "      <td>125.64</td>\n",
       "      <td>4.761905</td>\n",
       "      <td>6.2820</td>\n",
       "      <td>4.9</td>\n",
       "    </tr>\n",
       "    <tr>\n",
       "      <th>96</th>\n",
       "      <td>631-34-1880</td>\n",
       "      <td>C</td>\n",
       "      <td>Naypyitaw</td>\n",
       "      <td>Member</td>\n",
       "      <td>Male</td>\n",
       "      <td>Food and beverages</td>\n",
       "      <td>24.31</td>\n",
       "      <td>3</td>\n",
       "      <td>3.6465</td>\n",
       "      <td>76.5765</td>\n",
       "      <td>22-04-19</td>\n",
       "      <td>19:09</td>\n",
       "      <td>Credit card</td>\n",
       "      <td>72.93</td>\n",
       "      <td>4.761905</td>\n",
       "      <td>3.6465</td>\n",
       "      <td>4.3</td>\n",
       "    </tr>\n",
       "    <tr>\n",
       "      <th>97</th>\n",
       "      <td>852-82-2749</td>\n",
       "      <td>A</td>\n",
       "      <td>Yangon</td>\n",
       "      <td>Normal</td>\n",
       "      <td>Male</td>\n",
       "      <td>Sports and travel</td>\n",
       "      <td>64.59</td>\n",
       "      <td>4</td>\n",
       "      <td>12.9180</td>\n",
       "      <td>271.2780</td>\n",
       "      <td>10-04-19</td>\n",
       "      <td>13:35</td>\n",
       "      <td>Ewallet</td>\n",
       "      <td>258.36</td>\n",
       "      <td>4.761905</td>\n",
       "      <td>12.9180</td>\n",
       "      <td>9.3</td>\n",
       "    </tr>\n",
       "    <tr>\n",
       "      <th>98</th>\n",
       "      <td>873-14-6353</td>\n",
       "      <td>A</td>\n",
       "      <td>Yangon</td>\n",
       "      <td>Member</td>\n",
       "      <td>Male</td>\n",
       "      <td>Food and beverages</td>\n",
       "      <td>24.82</td>\n",
       "      <td>7</td>\n",
       "      <td>8.6870</td>\n",
       "      <td>182.4270</td>\n",
       "      <td>07-04-19</td>\n",
       "      <td>10:33</td>\n",
       "      <td>Credit card</td>\n",
       "      <td>173.74</td>\n",
       "      <td>4.761905</td>\n",
       "      <td>8.6870</td>\n",
       "      <td>7.1</td>\n",
       "    </tr>\n",
       "    <tr>\n",
       "      <th>99</th>\n",
       "      <td>584-66-4073</td>\n",
       "      <td>C</td>\n",
       "      <td>Naypyitaw</td>\n",
       "      <td>Normal</td>\n",
       "      <td>Male</td>\n",
       "      <td>Fashion accessories</td>\n",
       "      <td>56.50</td>\n",
       "      <td>1</td>\n",
       "      <td>2.8250</td>\n",
       "      <td>59.3250</td>\n",
       "      <td>16-04-19</td>\n",
       "      <td>15:45</td>\n",
       "      <td>Ewallet</td>\n",
       "      <td>56.50</td>\n",
       "      <td>4.761905</td>\n",
       "      <td>2.8250</td>\n",
       "      <td>9.6</td>\n",
       "    </tr>\n",
       "  </tbody>\n",
       "</table>\n",
       "<p>100 rows × 17 columns</p>\n",
       "</div>"
      ],
      "text/plain": [
       "     Invoice ID Branch       City Customer type  Gender         Product line  \\\n",
       "0   201-63-8275      C  Naypyitaw        Member  Female    Sports and travel   \n",
       "1   471-06-8611      C  Naypyitaw        Normal  Female   Food and beverages   \n",
       "2   200-16-5952      C  Naypyitaw        Member    Male   Food and beverages   \n",
       "3   120-54-2248      B   Mandalay        Normal  Female   Food and beverages   \n",
       "4   102-77-2261      C  Naypyitaw        Member    Male    Health and beauty   \n",
       "..          ...    ...        ...           ...     ...                  ...   \n",
       "95  101-81-4070      C  Naypyitaw        Member  Female    Health and beauty   \n",
       "96  631-34-1880      C  Naypyitaw        Member    Male   Food and beverages   \n",
       "97  852-82-2749      A     Yangon        Normal    Male    Sports and travel   \n",
       "98  873-14-6353      A     Yangon        Member    Male   Food and beverages   \n",
       "99  584-66-4073      C  Naypyitaw        Normal    Male  Fashion accessories   \n",
       "\n",
       "    Unit price  Quantity   Tax 5%     Total      Date   Time      Payment  \\\n",
       "0        67.99         7  23.7965  499.7265  02-04-19  16:50      Ewallet   \n",
       "1        52.42         1   2.6210   55.0410  14-04-19  10:22  Credit card   \n",
       "2        65.65         2   6.5650  137.8650  12-04-19  16:46         Cash   \n",
       "3        28.86         5   7.2150  151.5150  08-04-19  18:08  Credit card   \n",
       "4        65.31         7  22.8585  480.0285  29-04-19  18:02  Credit card   \n",
       "..         ...       ...      ...       ...       ...    ...          ...   \n",
       "95       62.82         2   6.2820  131.9220  14-04-19  12:36      Ewallet   \n",
       "96       24.31         3   3.6465   76.5765  22-04-19  19:09  Credit card   \n",
       "97       64.59         4  12.9180  271.2780  10-04-19  13:35      Ewallet   \n",
       "98       24.82         7   8.6870  182.4270  07-04-19  10:33  Credit card   \n",
       "99       56.50         1   2.8250   59.3250  16-04-19  15:45      Ewallet   \n",
       "\n",
       "      cogs  gross margin percentage  gross income  Rating  \n",
       "0   475.93                 4.761905       23.7965     5.7  \n",
       "1    52.42                 4.761905        2.6210     6.3  \n",
       "2   131.30                 4.761905        6.5650     6.0  \n",
       "3   144.30                 4.761905        7.2150     8.0  \n",
       "4   457.17                 4.761905       22.8585     4.2  \n",
       "..     ...                      ...           ...     ...  \n",
       "95  125.64                 4.761905        6.2820     4.9  \n",
       "96   72.93                 4.761905        3.6465     4.3  \n",
       "97  258.36                 4.761905       12.9180     9.3  \n",
       "98  173.74                 4.761905        8.6870     7.1  \n",
       "99   56.50                 4.761905        2.8250     9.6  \n",
       "\n",
       "[100 rows x 17 columns]"
      ]
     },
     "execution_count": 17,
     "metadata": {},
     "output_type": "execute_result"
    }
   ],
   "source": [
    "all_month_data.head(100)"
   ]
  },
  {
   "cell_type": "code",
   "execution_count": 20,
   "metadata": {},
   "outputs": [
    {
     "data": {
      "text/html": [
       "<div>\n",
       "<style scoped>\n",
       "    .dataframe tbody tr th:only-of-type {\n",
       "        vertical-align: middle;\n",
       "    }\n",
       "\n",
       "    .dataframe tbody tr th {\n",
       "        vertical-align: top;\n",
       "    }\n",
       "\n",
       "    .dataframe thead th {\n",
       "        text-align: right;\n",
       "    }\n",
       "</style>\n",
       "<table border=\"1\" class=\"dataframe\">\n",
       "  <thead>\n",
       "    <tr style=\"text-align: right;\">\n",
       "      <th></th>\n",
       "      <th>Invoice ID</th>\n",
       "      <th>Branch</th>\n",
       "      <th>City</th>\n",
       "      <th>Customer type</th>\n",
       "      <th>Gender</th>\n",
       "      <th>Product line</th>\n",
       "      <th>Unit price</th>\n",
       "      <th>Quantity</th>\n",
       "      <th>Tax 5%</th>\n",
       "      <th>Total</th>\n",
       "      <th>Date</th>\n",
       "      <th>Time</th>\n",
       "      <th>Payment</th>\n",
       "      <th>cogs</th>\n",
       "      <th>gross margin percentage</th>\n",
       "      <th>gross income</th>\n",
       "      <th>Rating</th>\n",
       "    </tr>\n",
       "  </thead>\n",
       "  <tbody>\n",
       "    <tr>\n",
       "      <th>5900</th>\n",
       "      <td>576-31-4774</td>\n",
       "      <td>B</td>\n",
       "      <td>Mandalay</td>\n",
       "      <td>Normal</td>\n",
       "      <td>Female</td>\n",
       "      <td>Health and beauty</td>\n",
       "      <td>73.41</td>\n",
       "      <td>3</td>\n",
       "      <td>11.0115</td>\n",
       "      <td>231.2415</td>\n",
       "      <td>12-03-19</td>\n",
       "      <td>13:10</td>\n",
       "      <td>Ewallet</td>\n",
       "      <td>220.23</td>\n",
       "      <td>4.761905</td>\n",
       "      <td>11.0115</td>\n",
       "      <td>4.0</td>\n",
       "    </tr>\n",
       "    <tr>\n",
       "      <th>5901</th>\n",
       "      <td>556-41-6224</td>\n",
       "      <td>C</td>\n",
       "      <td>Naypyitaw</td>\n",
       "      <td>Normal</td>\n",
       "      <td>Male</td>\n",
       "      <td>Health and beauty</td>\n",
       "      <td>33.64</td>\n",
       "      <td>8</td>\n",
       "      <td>13.4560</td>\n",
       "      <td>282.5760</td>\n",
       "      <td>08-03-19</td>\n",
       "      <td>17:10</td>\n",
       "      <td>Credit card</td>\n",
       "      <td>269.12</td>\n",
       "      <td>4.761905</td>\n",
       "      <td>13.4560</td>\n",
       "      <td>9.3</td>\n",
       "    </tr>\n",
       "    <tr>\n",
       "      <th>5902</th>\n",
       "      <td>811-03-8790</td>\n",
       "      <td>A</td>\n",
       "      <td>Yangon</td>\n",
       "      <td>Normal</td>\n",
       "      <td>Female</td>\n",
       "      <td>Electronic accessories</td>\n",
       "      <td>45.48</td>\n",
       "      <td>10</td>\n",
       "      <td>22.7400</td>\n",
       "      <td>477.5400</td>\n",
       "      <td>13-03-19</td>\n",
       "      <td>10:22</td>\n",
       "      <td>Credit card</td>\n",
       "      <td>454.80</td>\n",
       "      <td>4.761905</td>\n",
       "      <td>22.7400</td>\n",
       "      <td>4.8</td>\n",
       "    </tr>\n",
       "    <tr>\n",
       "      <th>5903</th>\n",
       "      <td>242-11-3142</td>\n",
       "      <td>B</td>\n",
       "      <td>Mandalay</td>\n",
       "      <td>Member</td>\n",
       "      <td>Male</td>\n",
       "      <td>Fashion accessories</td>\n",
       "      <td>83.77</td>\n",
       "      <td>2</td>\n",
       "      <td>8.3770</td>\n",
       "      <td>175.9170</td>\n",
       "      <td>24-03-19</td>\n",
       "      <td>19:57</td>\n",
       "      <td>Cash</td>\n",
       "      <td>167.54</td>\n",
       "      <td>4.761905</td>\n",
       "      <td>8.3770</td>\n",
       "      <td>4.6</td>\n",
       "    </tr>\n",
       "    <tr>\n",
       "      <th>5904</th>\n",
       "      <td>752-23-3760</td>\n",
       "      <td>B</td>\n",
       "      <td>Mandalay</td>\n",
       "      <td>Member</td>\n",
       "      <td>Female</td>\n",
       "      <td>Sports and travel</td>\n",
       "      <td>64.08</td>\n",
       "      <td>7</td>\n",
       "      <td>22.4280</td>\n",
       "      <td>470.9880</td>\n",
       "      <td>27-03-19</td>\n",
       "      <td>19:29</td>\n",
       "      <td>Credit card</td>\n",
       "      <td>448.56</td>\n",
       "      <td>4.761905</td>\n",
       "      <td>22.4280</td>\n",
       "      <td>7.3</td>\n",
       "    </tr>\n",
       "    <tr>\n",
       "      <th>...</th>\n",
       "      <td>...</td>\n",
       "      <td>...</td>\n",
       "      <td>...</td>\n",
       "      <td>...</td>\n",
       "      <td>...</td>\n",
       "      <td>...</td>\n",
       "      <td>...</td>\n",
       "      <td>...</td>\n",
       "      <td>...</td>\n",
       "      <td>...</td>\n",
       "      <td>...</td>\n",
       "      <td>...</td>\n",
       "      <td>...</td>\n",
       "      <td>...</td>\n",
       "      <td>...</td>\n",
       "      <td>...</td>\n",
       "      <td>...</td>\n",
       "    </tr>\n",
       "    <tr>\n",
       "      <th>5995</th>\n",
       "      <td>388-76-2555</td>\n",
       "      <td>B</td>\n",
       "      <td>Mandalay</td>\n",
       "      <td>Normal</td>\n",
       "      <td>Male</td>\n",
       "      <td>Sports and travel</td>\n",
       "      <td>13.69</td>\n",
       "      <td>6</td>\n",
       "      <td>4.1070</td>\n",
       "      <td>86.2470</td>\n",
       "      <td>27-03-19</td>\n",
       "      <td>13:59</td>\n",
       "      <td>Cash</td>\n",
       "      <td>82.14</td>\n",
       "      <td>4.761905</td>\n",
       "      <td>4.1070</td>\n",
       "      <td>6.3</td>\n",
       "    </tr>\n",
       "    <tr>\n",
       "      <th>5996</th>\n",
       "      <td>711-31-1234</td>\n",
       "      <td>B</td>\n",
       "      <td>Mandalay</td>\n",
       "      <td>Normal</td>\n",
       "      <td>Female</td>\n",
       "      <td>Electronic accessories</td>\n",
       "      <td>95.64</td>\n",
       "      <td>4</td>\n",
       "      <td>19.1280</td>\n",
       "      <td>401.6880</td>\n",
       "      <td>04-03-19</td>\n",
       "      <td>18:51</td>\n",
       "      <td>Cash</td>\n",
       "      <td>382.56</td>\n",
       "      <td>4.761905</td>\n",
       "      <td>19.1280</td>\n",
       "      <td>7.9</td>\n",
       "    </tr>\n",
       "    <tr>\n",
       "      <th>5997</th>\n",
       "      <td>886-54-6089</td>\n",
       "      <td>A</td>\n",
       "      <td>Yangon</td>\n",
       "      <td>Normal</td>\n",
       "      <td>Female</td>\n",
       "      <td>Home and lifestyle</td>\n",
       "      <td>11.43</td>\n",
       "      <td>6</td>\n",
       "      <td>3.4290</td>\n",
       "      <td>72.0090</td>\n",
       "      <td>20-03-19</td>\n",
       "      <td>17:24</td>\n",
       "      <td>Cash</td>\n",
       "      <td>68.58</td>\n",
       "      <td>4.761905</td>\n",
       "      <td>3.4290</td>\n",
       "      <td>7.7</td>\n",
       "    </tr>\n",
       "    <tr>\n",
       "      <th>5998</th>\n",
       "      <td>707-32-7409</td>\n",
       "      <td>B</td>\n",
       "      <td>Mandalay</td>\n",
       "      <td>Member</td>\n",
       "      <td>Female</td>\n",
       "      <td>Sports and travel</td>\n",
       "      <td>95.54</td>\n",
       "      <td>4</td>\n",
       "      <td>19.1080</td>\n",
       "      <td>401.2680</td>\n",
       "      <td>26-03-19</td>\n",
       "      <td>11:58</td>\n",
       "      <td>Ewallet</td>\n",
       "      <td>382.16</td>\n",
       "      <td>4.761905</td>\n",
       "      <td>19.1080</td>\n",
       "      <td>4.5</td>\n",
       "    </tr>\n",
       "    <tr>\n",
       "      <th>5999</th>\n",
       "      <td>759-98-4285</td>\n",
       "      <td>C</td>\n",
       "      <td>Naypyitaw</td>\n",
       "      <td>Member</td>\n",
       "      <td>Female</td>\n",
       "      <td>Health and beauty</td>\n",
       "      <td>85.87</td>\n",
       "      <td>7</td>\n",
       "      <td>30.0545</td>\n",
       "      <td>631.1445</td>\n",
       "      <td>23-03-19</td>\n",
       "      <td>19:01</td>\n",
       "      <td>Credit card</td>\n",
       "      <td>601.09</td>\n",
       "      <td>4.761905</td>\n",
       "      <td>30.0545</td>\n",
       "      <td>8.0</td>\n",
       "    </tr>\n",
       "  </tbody>\n",
       "</table>\n",
       "<p>100 rows × 17 columns</p>\n",
       "</div>"
      ],
      "text/plain": [
       "       Invoice ID Branch       City Customer type  Gender  \\\n",
       "5900  576-31-4774      B   Mandalay        Normal  Female   \n",
       "5901  556-41-6224      C  Naypyitaw        Normal    Male   \n",
       "5902  811-03-8790      A     Yangon        Normal  Female   \n",
       "5903  242-11-3142      B   Mandalay        Member    Male   \n",
       "5904  752-23-3760      B   Mandalay        Member  Female   \n",
       "...           ...    ...        ...           ...     ...   \n",
       "5995  388-76-2555      B   Mandalay        Normal    Male   \n",
       "5996  711-31-1234      B   Mandalay        Normal  Female   \n",
       "5997  886-54-6089      A     Yangon        Normal  Female   \n",
       "5998  707-32-7409      B   Mandalay        Member  Female   \n",
       "5999  759-98-4285      C  Naypyitaw        Member  Female   \n",
       "\n",
       "                Product line  Unit price  Quantity   Tax 5%     Total  \\\n",
       "5900       Health and beauty       73.41         3  11.0115  231.2415   \n",
       "5901       Health and beauty       33.64         8  13.4560  282.5760   \n",
       "5902  Electronic accessories       45.48        10  22.7400  477.5400   \n",
       "5903     Fashion accessories       83.77         2   8.3770  175.9170   \n",
       "5904       Sports and travel       64.08         7  22.4280  470.9880   \n",
       "...                      ...         ...       ...      ...       ...   \n",
       "5995       Sports and travel       13.69         6   4.1070   86.2470   \n",
       "5996  Electronic accessories       95.64         4  19.1280  401.6880   \n",
       "5997      Home and lifestyle       11.43         6   3.4290   72.0090   \n",
       "5998       Sports and travel       95.54         4  19.1080  401.2680   \n",
       "5999       Health and beauty       85.87         7  30.0545  631.1445   \n",
       "\n",
       "          Date   Time      Payment    cogs  gross margin percentage  \\\n",
       "5900  12-03-19  13:10      Ewallet  220.23                 4.761905   \n",
       "5901  08-03-19  17:10  Credit card  269.12                 4.761905   \n",
       "5902  13-03-19  10:22  Credit card  454.80                 4.761905   \n",
       "5903  24-03-19  19:57         Cash  167.54                 4.761905   \n",
       "5904  27-03-19  19:29  Credit card  448.56                 4.761905   \n",
       "...        ...    ...          ...     ...                      ...   \n",
       "5995  27-03-19  13:59         Cash   82.14                 4.761905   \n",
       "5996  04-03-19  18:51         Cash  382.56                 4.761905   \n",
       "5997  20-03-19  17:24         Cash   68.58                 4.761905   \n",
       "5998  26-03-19  11:58      Ewallet  382.16                 4.761905   \n",
       "5999  23-03-19  19:01  Credit card  601.09                 4.761905   \n",
       "\n",
       "      gross income  Rating  \n",
       "5900       11.0115     4.0  \n",
       "5901       13.4560     9.3  \n",
       "5902       22.7400     4.8  \n",
       "5903        8.3770     4.6  \n",
       "5904       22.4280     7.3  \n",
       "...            ...     ...  \n",
       "5995        4.1070     6.3  \n",
       "5996       19.1280     7.9  \n",
       "5997        3.4290     7.7  \n",
       "5998       19.1080     4.5  \n",
       "5999       30.0545     8.0  \n",
       "\n",
       "[100 rows x 17 columns]"
      ]
     },
     "execution_count": 20,
     "metadata": {},
     "output_type": "execute_result"
    }
   ],
   "source": [
    "all_month_data.tail(100)\n"
   ]
  },
  {
   "cell_type": "code",
   "execution_count": 23,
   "metadata": {},
   "outputs": [
    {
     "data": {
      "text/html": [
       "<div>\n",
       "<style scoped>\n",
       "    .dataframe tbody tr th:only-of-type {\n",
       "        vertical-align: middle;\n",
       "    }\n",
       "\n",
       "    .dataframe tbody tr th {\n",
       "        vertical-align: top;\n",
       "    }\n",
       "\n",
       "    .dataframe thead th {\n",
       "        text-align: right;\n",
       "    }\n",
       "</style>\n",
       "<table border=\"1\" class=\"dataframe\">\n",
       "  <thead>\n",
       "    <tr style=\"text-align: right;\">\n",
       "      <th></th>\n",
       "      <th>Invoice ID</th>\n",
       "      <th>Branch</th>\n",
       "      <th>City</th>\n",
       "      <th>Customer type</th>\n",
       "      <th>Gender</th>\n",
       "      <th>Product line</th>\n",
       "      <th>Unit price</th>\n",
       "      <th>Quantity</th>\n",
       "      <th>Tax 5%</th>\n",
       "      <th>Total</th>\n",
       "      <th>Date</th>\n",
       "      <th>Time</th>\n",
       "      <th>Payment</th>\n",
       "      <th>cogs</th>\n",
       "      <th>gross margin percentage</th>\n",
       "      <th>gross income</th>\n",
       "      <th>Rating</th>\n",
       "    </tr>\n",
       "  </thead>\n",
       "  <tbody>\n",
       "  </tbody>\n",
       "</table>\n",
       "</div>"
      ],
      "text/plain": [
       "Empty DataFrame\n",
       "Columns: [Invoice ID, Branch, City, Customer type, Gender, Product line, Unit price, Quantity, Tax 5%, Total, Date, Time, Payment, cogs, gross margin percentage, gross income, Rating]\n",
       "Index: []"
      ]
     },
     "metadata": {},
     "output_type": "display_data"
    }
   ],
   "source": [
    "nan_df = all_month_data[all_month_data.isna().any(axis=1)]\n",
    "display(nan_df.head())"
   ]
  },
  {
   "cell_type": "code",
   "execution_count": 28,
   "metadata": {},
   "outputs": [
    {
     "data": {
      "text/html": [
       "<div>\n",
       "<style scoped>\n",
       "    .dataframe tbody tr th:only-of-type {\n",
       "        vertical-align: middle;\n",
       "    }\n",
       "\n",
       "    .dataframe tbody tr th {\n",
       "        vertical-align: top;\n",
       "    }\n",
       "\n",
       "    .dataframe thead th {\n",
       "        text-align: right;\n",
       "    }\n",
       "</style>\n",
       "<table border=\"1\" class=\"dataframe\">\n",
       "  <thead>\n",
       "    <tr style=\"text-align: right;\">\n",
       "      <th></th>\n",
       "      <th>Invoice ID</th>\n",
       "      <th>Branch</th>\n",
       "      <th>City</th>\n",
       "      <th>Customer type</th>\n",
       "      <th>Gender</th>\n",
       "      <th>Product line</th>\n",
       "      <th>Unit price</th>\n",
       "      <th>Quantity</th>\n",
       "      <th>Tax 5%</th>\n",
       "      <th>Total</th>\n",
       "      <th>Date</th>\n",
       "      <th>Time</th>\n",
       "      <th>Payment</th>\n",
       "      <th>cogs</th>\n",
       "      <th>gross margin percentage</th>\n",
       "      <th>gross income</th>\n",
       "      <th>Rating</th>\n",
       "    </tr>\n",
       "  </thead>\n",
       "  <tbody>\n",
       "    <tr>\n",
       "      <th>0</th>\n",
       "      <td>201-63-8275</td>\n",
       "      <td>C</td>\n",
       "      <td>Naypyitaw</td>\n",
       "      <td>Member</td>\n",
       "      <td>Female</td>\n",
       "      <td>Sports and travel</td>\n",
       "      <td>67.99</td>\n",
       "      <td>7</td>\n",
       "      <td>23.7965</td>\n",
       "      <td>499.7265</td>\n",
       "      <td>02-04-19</td>\n",
       "      <td>16:50</td>\n",
       "      <td>Ewallet</td>\n",
       "      <td>475.93</td>\n",
       "      <td>4.761905</td>\n",
       "      <td>23.7965</td>\n",
       "      <td>5.7</td>\n",
       "    </tr>\n",
       "    <tr>\n",
       "      <th>1</th>\n",
       "      <td>471-06-8611</td>\n",
       "      <td>C</td>\n",
       "      <td>Naypyitaw</td>\n",
       "      <td>Normal</td>\n",
       "      <td>Female</td>\n",
       "      <td>Food and beverages</td>\n",
       "      <td>52.42</td>\n",
       "      <td>1</td>\n",
       "      <td>2.6210</td>\n",
       "      <td>55.0410</td>\n",
       "      <td>14-04-19</td>\n",
       "      <td>10:22</td>\n",
       "      <td>Credit card</td>\n",
       "      <td>52.42</td>\n",
       "      <td>4.761905</td>\n",
       "      <td>2.6210</td>\n",
       "      <td>6.3</td>\n",
       "    </tr>\n",
       "    <tr>\n",
       "      <th>2</th>\n",
       "      <td>200-16-5952</td>\n",
       "      <td>C</td>\n",
       "      <td>Naypyitaw</td>\n",
       "      <td>Member</td>\n",
       "      <td>Male</td>\n",
       "      <td>Food and beverages</td>\n",
       "      <td>65.65</td>\n",
       "      <td>2</td>\n",
       "      <td>6.5650</td>\n",
       "      <td>137.8650</td>\n",
       "      <td>12-04-19</td>\n",
       "      <td>16:46</td>\n",
       "      <td>Cash</td>\n",
       "      <td>131.30</td>\n",
       "      <td>4.761905</td>\n",
       "      <td>6.5650</td>\n",
       "      <td>6.0</td>\n",
       "    </tr>\n",
       "    <tr>\n",
       "      <th>3</th>\n",
       "      <td>120-54-2248</td>\n",
       "      <td>B</td>\n",
       "      <td>Mandalay</td>\n",
       "      <td>Normal</td>\n",
       "      <td>Female</td>\n",
       "      <td>Food and beverages</td>\n",
       "      <td>28.86</td>\n",
       "      <td>5</td>\n",
       "      <td>7.2150</td>\n",
       "      <td>151.5150</td>\n",
       "      <td>08-04-19</td>\n",
       "      <td>18:08</td>\n",
       "      <td>Credit card</td>\n",
       "      <td>144.30</td>\n",
       "      <td>4.761905</td>\n",
       "      <td>7.2150</td>\n",
       "      <td>8.0</td>\n",
       "    </tr>\n",
       "    <tr>\n",
       "      <th>4</th>\n",
       "      <td>102-77-2261</td>\n",
       "      <td>C</td>\n",
       "      <td>Naypyitaw</td>\n",
       "      <td>Member</td>\n",
       "      <td>Male</td>\n",
       "      <td>Health and beauty</td>\n",
       "      <td>65.31</td>\n",
       "      <td>7</td>\n",
       "      <td>22.8585</td>\n",
       "      <td>480.0285</td>\n",
       "      <td>29-04-19</td>\n",
       "      <td>18:02</td>\n",
       "      <td>Credit card</td>\n",
       "      <td>457.17</td>\n",
       "      <td>4.761905</td>\n",
       "      <td>22.8585</td>\n",
       "      <td>4.2</td>\n",
       "    </tr>\n",
       "  </tbody>\n",
       "</table>\n",
       "</div>"
      ],
      "text/plain": [
       "    Invoice ID Branch       City Customer type  Gender        Product line  \\\n",
       "0  201-63-8275      C  Naypyitaw        Member  Female   Sports and travel   \n",
       "1  471-06-8611      C  Naypyitaw        Normal  Female  Food and beverages   \n",
       "2  200-16-5952      C  Naypyitaw        Member    Male  Food and beverages   \n",
       "3  120-54-2248      B   Mandalay        Normal  Female  Food and beverages   \n",
       "4  102-77-2261      C  Naypyitaw        Member    Male   Health and beauty   \n",
       "\n",
       "   Unit price  Quantity   Tax 5%     Total      Date   Time      Payment  \\\n",
       "0       67.99         7  23.7965  499.7265  02-04-19  16:50      Ewallet   \n",
       "1       52.42         1   2.6210   55.0410  14-04-19  10:22  Credit card   \n",
       "2       65.65         2   6.5650  137.8650  12-04-19  16:46         Cash   \n",
       "3       28.86         5   7.2150  151.5150  08-04-19  18:08  Credit card   \n",
       "4       65.31         7  22.8585  480.0285  29-04-19  18:02  Credit card   \n",
       "\n",
       "     cogs  gross margin percentage  gross income  Rating  \n",
       "0  475.93                 4.761905       23.7965     5.7  \n",
       "1   52.42                 4.761905        2.6210     6.3  \n",
       "2  131.30                 4.761905        6.5650     6.0  \n",
       "3  144.30                 4.761905        7.2150     8.0  \n",
       "4  457.17                 4.761905       22.8585     4.2  "
      ]
     },
     "execution_count": 28,
     "metadata": {},
     "output_type": "execute_result"
    }
   ],
   "source": [
    "all_month_data = all_month_data.dropna(how='all')\n",
    "all_month_data.head()"
   ]
  },
  {
   "cell_type": "code",
   "execution_count": 29,
   "metadata": {},
   "outputs": [
    {
     "name": "stdout",
     "output_type": "stream",
     "text": [
      "<class 'pandas.core.frame.DataFrame'>\n",
      "Int64Index: 6000 entries, 0 to 5999\n",
      "Data columns (total 17 columns):\n",
      " #   Column                   Non-Null Count  Dtype  \n",
      "---  ------                   --------------  -----  \n",
      " 0   Invoice ID               6000 non-null   object \n",
      " 1   Branch                   6000 non-null   object \n",
      " 2   City                     6000 non-null   object \n",
      " 3   Customer type            6000 non-null   object \n",
      " 4   Gender                   6000 non-null   object \n",
      " 5   Product line             6000 non-null   object \n",
      " 6   Unit price               6000 non-null   float64\n",
      " 7   Quantity                 6000 non-null   int64  \n",
      " 8   Tax 5%                   6000 non-null   float64\n",
      " 9   Total                    6000 non-null   float64\n",
      " 10  Date                     6000 non-null   object \n",
      " 11  Time                     6000 non-null   object \n",
      " 12  Payment                  6000 non-null   object \n",
      " 13  cogs                     6000 non-null   float64\n",
      " 14  gross margin percentage  6000 non-null   float64\n",
      " 15  gross income             6000 non-null   float64\n",
      " 16  Rating                   6000 non-null   float64\n",
      "dtypes: float64(7), int64(1), object(9)\n",
      "memory usage: 632.8+ KB\n"
     ]
    }
   ],
   "source": [
    "all_month_data.info()"
   ]
  },
  {
   "cell_type": "code",
   "execution_count": 30,
   "metadata": {},
   "outputs": [],
   "source": [
    "all_month_data['date'] = pd.to_datetime(all_month_data['Date'])\n"
   ]
  },
  {
   "cell_type": "code",
   "execution_count": 31,
   "metadata": {},
   "outputs": [
    {
     "data": {
      "text/plain": [
       "dtype('O')"
      ]
     },
     "execution_count": 31,
     "metadata": {},
     "output_type": "execute_result"
    }
   ],
   "source": [
    "all_month_data[\"Date\"].dtypes"
   ]
  },
  {
   "cell_type": "code",
   "execution_count": 32,
   "metadata": {},
   "outputs": [
    {
     "data": {
      "text/plain": [
       "pandas.core.series.Series"
      ]
     },
     "execution_count": 32,
     "metadata": {},
     "output_type": "execute_result"
    }
   ],
   "source": [
    "type(all_month_data['date'])"
   ]
  },
  {
   "cell_type": "code",
   "execution_count": 34,
   "metadata": {},
   "outputs": [],
   "source": [
    "all_month_data['day'] = (all_month_data['date']).dt.day\n",
    "all_month_data['month'] = (all_month_data['date']).dt.month\n",
    "all_month_data['year'] = (all_month_data['date']).dt.year"
   ]
  },
  {
   "cell_type": "code",
   "execution_count": 35,
   "metadata": {},
   "outputs": [],
   "source": [
    "all_month_data['Time'] = pd.to_datetime(all_month_data['Time'])"
   ]
  },
  {
   "cell_type": "code",
   "execution_count": 36,
   "metadata": {},
   "outputs": [],
   "source": [
    "all_month_data['Hour'] = (all_month_data['Time']).dt.hour"
   ]
  },
  {
   "cell_type": "code",
   "execution_count": 37,
   "metadata": {},
   "outputs": [
    {
     "data": {
      "text/plain": [
       "11"
      ]
     },
     "execution_count": 37,
     "metadata": {},
     "output_type": "execute_result"
    }
   ],
   "source": [
    "all_month_data['Hour'].nunique()"
   ]
  },
  {
   "cell_type": "code",
   "execution_count": 39,
   "metadata": {},
   "outputs": [
    {
     "data": {
      "text/html": [
       "<div>\n",
       "<style scoped>\n",
       "    .dataframe tbody tr th:only-of-type {\n",
       "        vertical-align: middle;\n",
       "    }\n",
       "\n",
       "    .dataframe tbody tr th {\n",
       "        vertical-align: top;\n",
       "    }\n",
       "\n",
       "    .dataframe thead th {\n",
       "        text-align: right;\n",
       "    }\n",
       "</style>\n",
       "<table border=\"1\" class=\"dataframe\">\n",
       "  <thead>\n",
       "    <tr style=\"text-align: right;\">\n",
       "      <th></th>\n",
       "      <th>Unit price</th>\n",
       "      <th>Quantity</th>\n",
       "      <th>Tax 5%</th>\n",
       "      <th>Total</th>\n",
       "      <th>cogs</th>\n",
       "      <th>gross margin percentage</th>\n",
       "      <th>gross income</th>\n",
       "      <th>Rating</th>\n",
       "      <th>day</th>\n",
       "      <th>month</th>\n",
       "      <th>year</th>\n",
       "      <th>Hour</th>\n",
       "    </tr>\n",
       "  </thead>\n",
       "  <tbody>\n",
       "    <tr>\n",
       "      <th>count</th>\n",
       "      <td>6000.000000</td>\n",
       "      <td>6000.000000</td>\n",
       "      <td>6000.000000</td>\n",
       "      <td>6000.000000</td>\n",
       "      <td>6000.000000</td>\n",
       "      <td>6.000000e+03</td>\n",
       "      <td>6000.000000</td>\n",
       "      <td>6000.000000</td>\n",
       "      <td>6000.00000</td>\n",
       "      <td>6000.000000</td>\n",
       "      <td>6000.0</td>\n",
       "      <td>6000.000000</td>\n",
       "    </tr>\n",
       "    <tr>\n",
       "      <th>mean</th>\n",
       "      <td>55.672130</td>\n",
       "      <td>5.510000</td>\n",
       "      <td>15.379369</td>\n",
       "      <td>322.966749</td>\n",
       "      <td>307.587380</td>\n",
       "      <td>4.761905e+00</td>\n",
       "      <td>15.379369</td>\n",
       "      <td>6.972700</td>\n",
       "      <td>13.38300</td>\n",
       "      <td>4.105000</td>\n",
       "      <td>2019.0</td>\n",
       "      <td>14.910000</td>\n",
       "    </tr>\n",
       "    <tr>\n",
       "      <th>std</th>\n",
       "      <td>26.483585</td>\n",
       "      <td>2.922212</td>\n",
       "      <td>11.703945</td>\n",
       "      <td>245.782844</td>\n",
       "      <td>234.078899</td>\n",
       "      <td>5.671494e-13</td>\n",
       "      <td>11.703945</td>\n",
       "      <td>1.717864</td>\n",
       "      <td>10.21233</td>\n",
       "      <td>3.048856</td>\n",
       "      <td>0.0</td>\n",
       "      <td>3.185528</td>\n",
       "    </tr>\n",
       "    <tr>\n",
       "      <th>min</th>\n",
       "      <td>10.080000</td>\n",
       "      <td>1.000000</td>\n",
       "      <td>0.508500</td>\n",
       "      <td>10.678500</td>\n",
       "      <td>10.170000</td>\n",
       "      <td>4.761905e+00</td>\n",
       "      <td>0.508500</td>\n",
       "      <td>4.000000</td>\n",
       "      <td>1.00000</td>\n",
       "      <td>1.000000</td>\n",
       "      <td>2019.0</td>\n",
       "      <td>10.000000</td>\n",
       "    </tr>\n",
       "    <tr>\n",
       "      <th>25%</th>\n",
       "      <td>32.875000</td>\n",
       "      <td>3.000000</td>\n",
       "      <td>5.924875</td>\n",
       "      <td>124.422375</td>\n",
       "      <td>118.497500</td>\n",
       "      <td>4.761905e+00</td>\n",
       "      <td>5.924875</td>\n",
       "      <td>5.500000</td>\n",
       "      <td>3.00000</td>\n",
       "      <td>2.000000</td>\n",
       "      <td>2019.0</td>\n",
       "      <td>12.000000</td>\n",
       "    </tr>\n",
       "    <tr>\n",
       "      <th>50%</th>\n",
       "      <td>55.230000</td>\n",
       "      <td>5.000000</td>\n",
       "      <td>12.088000</td>\n",
       "      <td>253.848000</td>\n",
       "      <td>241.760000</td>\n",
       "      <td>4.761905e+00</td>\n",
       "      <td>12.088000</td>\n",
       "      <td>7.000000</td>\n",
       "      <td>15.00000</td>\n",
       "      <td>3.000000</td>\n",
       "      <td>2019.0</td>\n",
       "      <td>15.000000</td>\n",
       "    </tr>\n",
       "    <tr>\n",
       "      <th>75%</th>\n",
       "      <td>77.935000</td>\n",
       "      <td>8.000000</td>\n",
       "      <td>22.445250</td>\n",
       "      <td>471.350250</td>\n",
       "      <td>448.905000</td>\n",
       "      <td>4.761905e+00</td>\n",
       "      <td>22.445250</td>\n",
       "      <td>8.500000</td>\n",
       "      <td>23.00000</td>\n",
       "      <td>5.000000</td>\n",
       "      <td>2019.0</td>\n",
       "      <td>18.000000</td>\n",
       "    </tr>\n",
       "    <tr>\n",
       "      <th>max</th>\n",
       "      <td>99.960000</td>\n",
       "      <td>10.000000</td>\n",
       "      <td>49.650000</td>\n",
       "      <td>1042.650000</td>\n",
       "      <td>993.000000</td>\n",
       "      <td>4.761905e+00</td>\n",
       "      <td>49.650000</td>\n",
       "      <td>10.000000</td>\n",
       "      <td>31.00000</td>\n",
       "      <td>12.000000</td>\n",
       "      <td>2019.0</td>\n",
       "      <td>20.000000</td>\n",
       "    </tr>\n",
       "  </tbody>\n",
       "</table>\n",
       "</div>"
      ],
      "text/plain": [
       "        Unit price     Quantity       Tax 5%        Total         cogs  \\\n",
       "count  6000.000000  6000.000000  6000.000000  6000.000000  6000.000000   \n",
       "mean     55.672130     5.510000    15.379369   322.966749   307.587380   \n",
       "std      26.483585     2.922212    11.703945   245.782844   234.078899   \n",
       "min      10.080000     1.000000     0.508500    10.678500    10.170000   \n",
       "25%      32.875000     3.000000     5.924875   124.422375   118.497500   \n",
       "50%      55.230000     5.000000    12.088000   253.848000   241.760000   \n",
       "75%      77.935000     8.000000    22.445250   471.350250   448.905000   \n",
       "max      99.960000    10.000000    49.650000  1042.650000   993.000000   \n",
       "\n",
       "       gross margin percentage  gross income       Rating         day  \\\n",
       "count             6.000000e+03   6000.000000  6000.000000  6000.00000   \n",
       "mean              4.761905e+00     15.379369     6.972700    13.38300   \n",
       "std               5.671494e-13     11.703945     1.717864    10.21233   \n",
       "min               4.761905e+00      0.508500     4.000000     1.00000   \n",
       "25%               4.761905e+00      5.924875     5.500000     3.00000   \n",
       "50%               4.761905e+00     12.088000     7.000000    15.00000   \n",
       "75%               4.761905e+00     22.445250     8.500000    23.00000   \n",
       "max               4.761905e+00     49.650000    10.000000    31.00000   \n",
       "\n",
       "             month    year         Hour  \n",
       "count  6000.000000  6000.0  6000.000000  \n",
       "mean      4.105000  2019.0    14.910000  \n",
       "std       3.048856     0.0     3.185528  \n",
       "min       1.000000  2019.0    10.000000  \n",
       "25%       2.000000  2019.0    12.000000  \n",
       "50%       3.000000  2019.0    15.000000  \n",
       "75%       5.000000  2019.0    18.000000  \n",
       "max      12.000000  2019.0    20.000000  "
      ]
     },
     "execution_count": 39,
     "metadata": {},
     "output_type": "execute_result"
    }
   ],
   "source": [
    "all_month_data.describe()"
   ]
  },
  {
   "cell_type": "code",
   "execution_count": 46,
   "metadata": {},
   "outputs": [],
   "source": [
    "categorical_columns = [cname for cname in all_month_data.columns if all_month_data[cname].dtype == \"object\"]"
   ]
  },
  {
   "cell_type": "code",
   "execution_count": 41,
   "metadata": {},
   "outputs": [
    {
     "data": {
      "text/plain": [
       "['Invoice ID',\n",
       " 'Branch',\n",
       " 'City',\n",
       " 'Customer type',\n",
       " 'Gender',\n",
       " 'Product line',\n",
       " 'Date',\n",
       " 'Payment']"
      ]
     },
     "execution_count": 41,
     "metadata": {},
     "output_type": "execute_result"
    }
   ],
   "source": [
    "categorical_columns"
   ]
  },
  {
   "cell_type": "code",
   "execution_count": 48,
   "metadata": {},
   "outputs": [
    {
     "data": {
      "image/png": "[encoded data removed]",
      "text/plain": [
       "<Figure size 432x288 with 1 Axes>"
      ]
     },
     "metadata": {},
     "output_type": "display_data"
    }
   ],
   "source": [
    "sns.set(style=\"darkgrid\")       #style the plot background to become a grid\n",
    "genderCount  = sns.countplot(x=\"Gender\", data =all_month_data).set_title(\"Gender_Count\")"
   ]
  },
  {
   "cell_type": "code",
   "execution_count": 49,
   "metadata": {},
   "outputs": [
    {
     "data": {
      "text/plain": [
       "Text(0.5, 1.0, 'Ratings by Branch')"
      ]
     },
     "execution_count": 49,
     "metadata": {},
     "output_type": "execute_result"
    },
    {
     "data": {
      "image/png": "[encoded data removed]",
      "text/plain": [
       "<Figure size 432x288 with 1 Axes>"
      ]
     },
     "metadata": {},
     "output_type": "display_data"
    }
   ],
   "source": [
    "sns.boxplot(x=\"Branch\", y = \"Rating\" ,data =all_month_data).set_title(\"Ratings by Branch\")"
   ]
  },
  {
   "cell_type": "code",
   "execution_count": 50,
   "metadata": {},
   "outputs": [
    {
     "data": {
      "image/png": "[encoded data removed]",
      "text/plain": [
       "<Figure size 432x288 with 1 Axes>"
      ]
     },
     "metadata": {},
     "output_type": "display_data"
    }
   ],
   "source": [
    "genderCount  = sns.lineplot(x=\"Hour\",  y = 'Quantity',data =all_month_data).set_title(\"Product Sales per Hour\")"
   ]
  },
  {
   "cell_type": "code",
   "execution_count": 52,
   "metadata": {},
   "outputs": [
    {
     "data": {
      "text/plain": [
       "array([ 5.7,  6.3,  6. ,  8. ,  4.2,  9.6,  6.1,  5.6,  8.3,  7.8,  4.1,\n",
       "        8.8,  9. ,  5.5,  9.3,  9.7,  4. ,  9.2,  4.9,  6.6,  4.3,  8.1,\n",
       "        9.8,  9.4,  7.9,  5.1,  6.9,  8.5,  8.6,  6.2,  5. ,  6.5,  8.4,\n",
       "        6.7,  5.9,  8.7,  4.5,  7.7,  5.2,  7.6,  9.5,  5.4,  5.8,  8.9,\n",
       "       10. ,  8.2,  7. ,  7.3,  7.1,  9.9,  7.5,  6.8,  7.2,  5.3,  4.6,\n",
       "        7.4,  4.7,  6.4,  4.4,  4.8,  9.1])"
      ]
     },
     "execution_count": 52,
     "metadata": {},
     "output_type": "execute_result"
    }
   ],
   "source": [
    "all_month_data['Rating'].unique()"
   ]
  },
  {
   "cell_type": "code",
   "execution_count": 55,
   "metadata": {},
   "outputs": [
    {
     "data": {
      "text/plain": [
       "<AxesSubplot:xlabel='count', ylabel='Product line'>"
      ]
     },
     "execution_count": 55,
     "metadata": {},
     "output_type": "execute_result"
    },
    {
     "data": {
      "image/png": "[encoded data removed]",
      "text/plain": [
       "<Figure size 432x288 with 1 Axes>"
      ]
     },
     "metadata": {},
     "output_type": "display_data"
    }
   ],
   "source": [
    "sns.countplot(y = 'Product line', data=all_month_data, order = all_month_data['Product line'].value_counts().index )"
   ]
  },
  {
   "cell_type": "code",
   "execution_count": 56,
   "metadata": {},
   "outputs": [
    {
     "data": {
      "text/plain": [
       "<AxesSubplot:xlabel='Total', ylabel='Product line'>"
      ]
     },
     "execution_count": 56,
     "metadata": {},
     "output_type": "execute_result"
    },
    {
     "data": {
      "image/png": "[encoded data removed]",
      "text/plain": [
       "<Figure size 432x288 with 1 Axes>"
      ]
     },
     "metadata": {},
     "output_type": "display_data"
    }
   ],
   "source": [
    "sns.boxenplot(y = 'Product line', x = 'Total', data=all_month_data )"
   ]
  },
  {
   "cell_type": "code",
   "execution_count": 57,
   "metadata": {},
   "outputs": [
    {
     "data": {
      "text/plain": [
       "Text(0.5, 1.0, 'Payment Channel')"
      ]
     },
     "execution_count": 57,
     "metadata": {},
     "output_type": "execute_result"
    },
    {
     "data": {
      "image/png": "[encoded data removed]",
      "text/plain": [
       "<Figure size 432x288 with 1 Axes>"
      ]
     },
     "metadata": {},
     "output_type": "display_data"
    }
   ],
   "source": [
    "sns.countplot(x=\"Payment\", data =all_month_data).set_title(\"Payment Channel\")"
   ]
  },
  {
   "cell_type": "code",
   "execution_count": 58,
   "metadata": {},
   "outputs": [
    {
     "data": {
      "text/plain": [
       "Text(0.5, 1.0, 'Payment Channel by Branch')"
      ]
     },
     "execution_count": 58,
     "metadata": {},
     "output_type": "execute_result"
    },
    {
     "data": {
      "image/png": "[encoded data removed]",
      "text/plain": [
       "<Figure size 432x288 with 1 Axes>"
      ]
     },
     "metadata": {},
     "output_type": "display_data"
    }
   ],
   "source": [
    "sns.countplot(x=\"Payment\", hue = \"Branch\", data =all_month_data).set_title(\"Payment Channel by Branch\")"
   ]
  },
  {
   "cell_type": "code",
   "execution_count": 59,
   "metadata": {},
   "outputs": [
    {
     "data": {
      "text/plain": [
       "2"
      ]
     },
     "execution_count": 59,
     "metadata": {},
     "output_type": "execute_result"
    }
   ],
   "source": [
    "all_month_data['Customer type'].nunique()"
   ]
  },
  {
   "cell_type": "code",
   "execution_count": 60,
   "metadata": {},
   "outputs": [
    {
     "data": {
      "text/plain": [
       "Text(0.5, 1.0, 'Customer Type by Branch')"
      ]
     },
     "execution_count": 60,
     "metadata": {},
     "output_type": "execute_result"
    },
    {
     "data": {
      "image/png": "[encoded data removed]",
      "text/plain": [
       "<Figure size 432x288 with 1 Axes>"
      ]
     },
     "metadata": {},
     "output_type": "display_data"
    }
   ],
   "source": [
    "sns.countplot(x=\"Customer type\", hue = \"Branch\", data =all_month_data).set_title(\"Customer Type by Branch\")"
   ]
  },
  {
   "cell_type": "code",
   "execution_count": 61,
   "metadata": {},
   "outputs": [
    {
     "data": {
      "text/plain": [
       "Text(0.5, 1.0, 'Customer Type by Branch')"
      ]
     },
     "execution_count": 61,
     "metadata": {},
     "output_type": "execute_result"
    },
    {
     "data": {
      "image/png": "[encoded data removed]",
      "text/plain": [
       "<Figure size 432x288 with 1 Axes>"
      ]
     },
     "metadata": {},
     "output_type": "display_data"
    }
   ],
   "source": [
    "sns.countplot(x=\"Customer type\", hue = \"Branch\", data =all_month_data).set_title(\"Customer Type by Branch\")"
   ]
  },
  {
   "cell_type": "code",
   "execution_count": 65,
   "metadata": {},
   "outputs": [
    {
     "data": {
      "text/html": [
       "<div>\n",
       "<style scoped>\n",
       "    .dataframe tbody tr th:only-of-type {\n",
       "        vertical-align: middle;\n",
       "    }\n",
       "\n",
       "    .dataframe tbody tr th {\n",
       "        vertical-align: top;\n",
       "    }\n",
       "\n",
       "    .dataframe thead th {\n",
       "        text-align: right;\n",
       "    }\n",
       "</style>\n",
       "<table border=\"1\" class=\"dataframe\">\n",
       "  <thead>\n",
       "    <tr style=\"text-align: right;\">\n",
       "      <th></th>\n",
       "      <th>Total</th>\n",
       "    </tr>\n",
       "    <tr>\n",
       "      <th>Customer type</th>\n",
       "      <th></th>\n",
       "    </tr>\n",
       "  </thead>\n",
       "  <tbody>\n",
       "    <tr>\n",
       "      <th>Member</th>\n",
       "      <td>985340.664</td>\n",
       "    </tr>\n",
       "    <tr>\n",
       "      <th>Normal</th>\n",
       "      <td>952459.830</td>\n",
       "    </tr>\n",
       "  </tbody>\n",
       "</table>\n",
       "</div>"
      ],
      "text/plain": [
       "                    Total\n",
       "Customer type            \n",
       "Member         985340.664\n",
       "Normal         952459.830"
      ]
     },
     "execution_count": 65,
     "metadata": {},
     "output_type": "execute_result"
    }
   ],
   "source": [
    "all_month_data.groupby(['Customer type']).agg({'Total': 'sum'})"
   ]
  },
  {
   "cell_type": "code",
   "execution_count": 66,
   "metadata": {},
   "outputs": [
    {
     "data": {
      "text/plain": [
       "<AxesSubplot:xlabel='Customer type', ylabel='Total'>"
      ]
     },
     "execution_count": 66,
     "metadata": {},
     "output_type": "execute_result"
    },
    {
     "data": {
      "image/png": "[encoded data removed]",
      "text/plain": [
       "<Figure size 432x288 with 1 Axes>"
      ]
     },
     "metadata": {},
     "output_type": "display_data"
    }
   ],
   "source": [
    "sns.barplot(x=\"Customer type\", y=\"Total\", estimator = sum, data=all_month_data)"
   ]
  },
  {
   "cell_type": "code",
   "execution_count": null,
   "metadata": {},
   "outputs": [],
   "source": []
  }
 ],
 "metadata": {
  "kernelspec": {
   "display_name": "Python 3",
   "language": "python",
   "name": "python3"
  },
  "language_info": {
   "codemirror_mode": {
    "name": "ipython",
    "version": 3
   },
   "file_extension": ".py",
   "mimetype": "text/x-python",
   "name": "python",
   "nbconvert_exporter": "python",
   "pygments_lexer": "ipython3",
   "version": "3.8.5"
  }
 },
 "nbformat": 4,
 "nbformat_minor": 4
}
